{
 "cells": [
  {
   "cell_type": "code",
   "execution_count": 2,
   "id": "14d6955d",
   "metadata": {},
   "outputs": [],
   "source": [
    "#  ELENA THOMPSON\n",
    "##  Ph.D. History, U. of Texas, 1988\n",
    "###  interest is learning python\n"
   ]
  },
  {
   "cell_type": "code",
   "execution_count": null,
   "id": "fb1c5222",
   "metadata": {},
   "outputs": [],
   "source": []
  }
 ],
 "metadata": {
  "kernelspec": {
   "display_name": "Python 3 (ipykernel)",
   "language": "python",
   "name": "python3"
  },
  "language_info": {
   "codemirror_mode": {
    "name": "ipython",
    "version": 3
   },
   "file_extension": ".py",
   "mimetype": "text/x-python",
   "name": "python",
   "nbconvert_exporter": "python",
   "pygments_lexer": "ipython3",
   "version": "3.10.9"
  }
 },
 "nbformat": 4,
 "nbformat_minor": 5
}
